{
 "cells": [
  {
   "cell_type": "markdown",
   "metadata": {},
   "source": [
    "# Solve problem 1"
   ]
  },
  {
   "cell_type": "code",
   "execution_count": 3,
   "metadata": {},
   "outputs": [
    {
     "name": "stdout",
     "output_type": "stream",
     "text": [
      "Wednesday, October 02, 2002\n",
      "Friday, 11.10.13\n",
      "Thursday, 18 August 1977\n"
     ]
    }
   ],
   "source": [
    "from datetime import datetime\n",
    "\n",
    "date_moscow = datetime.strptime('Wednesday, October 2, 2002', '%A, %B %d, %Y')\n",
    "date_guardian = datetime.strptime('Friday, 11.10.13', '%A, %d.%m.%y')\n",
    "date_daily = datetime.strptime('Thursday, 18 August 1977', '%A, %d %B %Y')\n",
    "\n",
    "print(date_moscow.strftime('%A, %B %d, %Y'))\n",
    "print(date_guardian.strftime('%A, %d.%m.%y'))\n",
    "print(date_daily.strftime('%A, %d %B %Y'))"
   ]
  },
  {
   "cell_type": "markdown",
   "metadata": {},
   "source": [
    "# Solve problem 2"
   ]
  },
  {
   "cell_type": "code",
   "execution_count": 7,
   "metadata": {},
   "outputs": [
    {
     "name": "stdout",
     "output_type": "stream",
     "text": [
      "True\n",
      "False\n",
      "False\n"
     ]
    }
   ],
   "source": [
    "from datetime import datetime\n",
    "\n",
    "stream = ['2018-04-02', '2018-02-29', '2018-19-02']\n",
    "\n",
    "def check(date):\n",
    "    for s in date:\n",
    "        try:\n",
    "            s == datetime.strptime(s, '%Y-%m-%d')\n",
    "            print(True)\n",
    "        except:    \n",
    "            print(False)\n",
    "    return \n",
    "check(stream)"
   ]
  },
  {
   "cell_type": "markdown",
   "metadata": {},
   "source": [
    "# Solve problem 3"
   ]
  },
  {
   "cell_type": "code",
   "execution_count": 72,
   "metadata": {},
   "outputs": [
    {
     "data": {
      "text/plain": [
       "[]"
      ]
     },
     "execution_count": 72,
     "metadata": {},
     "output_type": "execute_result"
    }
   ],
   "source": [
    "from datetime import datetime\n",
    "from datetime import timedelta\n",
    "\n",
    "start_date = '2021-01-01'\n",
    "end_date = '2021/01/31'\n",
    "\n",
    "def date_range(start_date, end_date):\n",
    "    result = []\n",
    "    try:\n",
    "        date_start = datetime.strptime(start_date, '%Y-%m-%d')\n",
    "        date_end = datetime.strptime(end_date, '%Y-%m-%d')\n",
    "        \n",
    "        if (date_start > date_end):\n",
    "            print('Невозможная дата')\n",
    "            \n",
    "        while date_start <= date_end:\n",
    "            print(date_start.strftime('%Y-%m-%d'))\n",
    "            date_start += timedelta(days=1)\n",
    "            \n",
    "    finally:\n",
    "        return result\n",
    "\n",
    "date_range(start_date, end_date)"
   ]
  }
 ],
 "metadata": {
  "kernelspec": {
   "display_name": "Python 3",
   "language": "python",
   "name": "python3"
  },
  "language_info": {
   "codemirror_mode": {
    "name": "ipython",
    "version": 3
   },
   "file_extension": ".py",
   "mimetype": "text/x-python",
   "name": "python",
   "nbconvert_exporter": "python",
   "pygments_lexer": "ipython3",
   "version": "3.8.5"
  }
 },
 "nbformat": 4,
 "nbformat_minor": 4
}
